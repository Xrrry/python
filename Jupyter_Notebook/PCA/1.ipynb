{
 "cells": [
  {
   "cell_type": "code",
   "execution_count": 36,
   "metadata": {},
   "outputs": [],
   "source": [
    "import numpy as np\n",
    "import matplotlib.pyplot as plt"
   ]
  },
  {
   "cell_type": "code",
   "execution_count": 37,
   "metadata": {},
   "outputs": [],
   "source": [
    "x = np.empty((100,2))\n",
    "x[:,0] = np.random.uniform(0., 100., size=100)\n",
    "x[:,1] = 0.75 * x[:,0] + 3. + np.random.normal(0, 5., size=100)"
   ]
  },
  {
   "cell_type": "code",
   "execution_count": 38,
   "metadata": {},
   "outputs": [
    {
     "data": {
      "image/png": "[encoded data removed]",
      "text/plain": [
       "<Figure size 432x288 with 1 Axes>"
      ]
     },
     "metadata": {
      "needs_background": "light"
     },
     "output_type": "display_data"
    }
   ],
   "source": [
    "plt.scatter(x[:,0], x[:,1])\n",
    "plt.show()"
   ]
  },
  {
   "cell_type": "code",
   "execution_count": 39,
   "metadata": {},
   "outputs": [],
   "source": [
    "%run C:\\Users\\Admin\\PycharmProjects\\mechine-learning\\PCA.py"
   ]
  },
  {
   "cell_type": "code",
   "execution_count": 40,
   "metadata": {},
   "outputs": [
    {
     "data": {
      "text/plain": [
       "PCA(n_components=1)"
      ]
     },
     "execution_count": 40,
     "metadata": {},
     "output_type": "execute_result"
    }
   ],
   "source": [
    "pca = PCA(n_components=1)\n",
    "pca.fit(x)"
   ]
  },
  {
   "cell_type": "code",
   "execution_count": 41,
   "metadata": {},
   "outputs": [
    {
     "data": {
      "text/plain": [
       "array([[0.80096444, 0.59871193]])"
      ]
     },
     "execution_count": 41,
     "metadata": {},
     "output_type": "execute_result"
    }
   ],
   "source": [
    "pca.components_"
   ]
  },
  {
   "cell_type": "code",
   "execution_count": 42,
   "metadata": {},
   "outputs": [
    {
     "data": {
      "text/plain": [
       "array([[ 34.81384045],\n",
       "       [ 91.19093982],\n",
       "       [ 26.70967034],\n",
       "       [ 67.60016856],\n",
       "       [ 79.98070434],\n",
       "       [120.64540465],\n",
       "       [ 50.93947991],\n",
       "       [ 60.55737586],\n",
       "       [ 93.09093628],\n",
       "       [118.97780292],\n",
       "       [ 42.62492532],\n",
       "       [ 99.99106317],\n",
       "       [ 77.21251123],\n",
       "       [124.58325477],\n",
       "       [ 51.03043533],\n",
       "       [ 57.67518643],\n",
       "       [ 64.51488799],\n",
       "       [ 73.00522025],\n",
       "       [ 29.908744  ],\n",
       "       [103.95274047],\n",
       "       [ 31.85641942],\n",
       "       [ 93.40427975],\n",
       "       [ 27.70189966],\n",
       "       [ 18.48803611],\n",
       "       [ 64.68498617],\n",
       "       [ 65.83156596],\n",
       "       [ 19.90277663],\n",
       "       [ 24.60049408],\n",
       "       [112.14001515],\n",
       "       [111.93366204],\n",
       "       [ 48.77536087],\n",
       "       [100.63486658],\n",
       "       [ 20.96751017],\n",
       "       [ 19.64656277],\n",
       "       [ 82.544814  ],\n",
       "       [115.2132588 ],\n",
       "       [ 21.10983329],\n",
       "       [  9.82890054],\n",
       "       [117.94586011],\n",
       "       [ 89.00468359],\n",
       "       [114.33340551],\n",
       "       [ 50.28534566],\n",
       "       [ 16.38808558],\n",
       "       [ 91.52530232],\n",
       "       [ 64.31132244],\n",
       "       [ 37.04104273],\n",
       "       [ 40.12620242],\n",
       "       [ 38.39600685],\n",
       "       [ 37.47169334],\n",
       "       [ 60.36139877],\n",
       "       [ 87.26161226],\n",
       "       [117.08687812],\n",
       "       [ 93.20091432],\n",
       "       [ 45.60006862],\n",
       "       [ 72.47599598],\n",
       "       [104.30326967],\n",
       "       [ 51.09482152],\n",
       "       [ 67.38827179],\n",
       "       [ 15.22902755],\n",
       "       [114.98590863],\n",
       "       [ 53.00008518],\n",
       "       [117.30770131],\n",
       "       [121.62454305],\n",
       "       [ 11.02412838],\n",
       "       [ 41.79155279],\n",
       "       [121.09594785],\n",
       "       [ 57.98359205],\n",
       "       [ 75.5522328 ],\n",
       "       [  5.41086478],\n",
       "       [ 71.77659201],\n",
       "       [116.56087795],\n",
       "       [ 70.86728912],\n",
       "       [ 67.78661469],\n",
       "       [ 81.34250055],\n",
       "       [ 47.08340777],\n",
       "       [ 75.54940512],\n",
       "       [ 57.62970516],\n",
       "       [ 46.21132325],\n",
       "       [ 38.66562042],\n",
       "       [126.75273749],\n",
       "       [ 41.29251907],\n",
       "       [ 67.06164844],\n",
       "       [ 54.83643858],\n",
       "       [ 51.87915261],\n",
       "       [ 25.95865288],\n",
       "       [ 42.06497499],\n",
       "       [ 32.060254  ],\n",
       "       [ 14.01706906],\n",
       "       [ 93.249382  ],\n",
       "       [ 79.05357437],\n",
       "       [ 10.41697782],\n",
       "       [110.14331449],\n",
       "       [ 14.53117162],\n",
       "       [120.37838532],\n",
       "       [ 42.20994061],\n",
       "       [ 43.70865077],\n",
       "       [ 74.71107295],\n",
       "       [ 17.5695097 ],\n",
       "       [ 62.64806188],\n",
       "       [  8.15602031]])"
      ]
     },
     "execution_count": 42,
     "metadata": {},
     "output_type": "execute_result"
    }
   ],
   "source": [
    "x_reduction = pca.transform(x)\n",
    "x_reduction"
   ]
  },
  {
   "cell_type": "code",
   "execution_count": 43,
   "metadata": {},
   "outputs": [],
   "source": [
    "x_restore = pca.inverse_transform(x_reduction)"
   ]
  },
  {
   "cell_type": "code",
   "execution_count": 48,
   "metadata": {},
   "outputs": [
    {
     "data": {
      "image/png": "[encoded data removed]",
      "text/plain": [
       "<Figure size 432x288 with 1 Axes>"
      ]
     },
     "metadata": {
      "needs_background": "light"
     },
     "output_type": "display_data"
    }
   ],
   "source": [
    "plt.scatter(x[:,0], x[:,1], color='b', alpha=0.5)\n",
    "plt.scatter(x_restore[:,0], x_restore[:,1], color='r', alpha=0.5)\n",
    "plt.show()"
   ]
  },
  {
   "cell_type": "markdown",
   "metadata": {},
   "source": [
    "# sklearn"
   ]
  },
  {
   "cell_type": "code",
   "execution_count": 45,
   "metadata": {},
   "outputs": [],
   "source": [
    "from sklearn.decomposition import PCA"
   ]
  },
  {
   "cell_type": "code",
   "execution_count": 46,
   "metadata": {},
   "outputs": [
    {
     "data": {
      "text/plain": [
       "PCA(copy=True, iterated_power='auto', n_components=1, random_state=None,\n",
       "    svd_solver='auto', tol=0.0, whiten=False)"
      ]
     },
     "execution_count": 46,
     "metadata": {},
     "output_type": "execute_result"
    }
   ],
   "source": [
    "pca = PCA(n_components=1)\n",
    "pca.fit(x)"
   ]
  },
  {
   "cell_type": "code",
   "execution_count": 47,
   "metadata": {},
   "outputs": [
    {
     "data": {
      "text/plain": [
       "array([[0.80096443, 0.59871194]])"
      ]
     },
     "execution_count": 47,
     "metadata": {},
     "output_type": "execute_result"
    }
   ],
   "source": [
    "pca.components_"
   ]
  },
  {
   "cell_type": "code",
   "execution_count": 49,
   "metadata": {},
   "outputs": [],
   "source": [
    "x_reduction = pca.transform(x)"
   ]
  },
  {
   "cell_type": "code",
   "execution_count": 50,
   "metadata": {},
   "outputs": [],
   "source": [
    "x_restore = pca.inverse_transform(x_reduction)"
   ]
  },
  {
   "cell_type": "code",
   "execution_count": 51,
   "metadata": {},
   "outputs": [
    {
     "data": {
      "image/png": "[encoded data removed]",
      "text/plain": [
       "<Figure size 432x288 with 1 Axes>"
      ]
     },
     "metadata": {
      "needs_background": "light"
     },
     "output_type": "display_data"
    }
   ],
   "source": [
    "plt.scatter(x[:,0], x[:,1], color='b', alpha=0.5)\n",
    "plt.scatter(x_restore[:,0], x_restore[:,1], color='r', alpha=0.5)\n",
    "plt.show()"
   ]
  },
  {
   "cell_type": "code",
   "execution_count": null,
   "metadata": {},
   "outputs": [],
   "source": []
  }
 ],
 "metadata": {
  "kernelspec": {
   "display_name": "Python 3",
   "language": "python",
   "name": "python3"
  },
  "language_info": {
   "codemirror_mode": {
    "name": "ipython",
    "version": 3
   },
   "file_extension": ".py",
   "mimetype": "text/x-python",
   "name": "python",
   "nbconvert_exporter": "python",
   "pygments_lexer": "ipython3",
   "version": "3.7.0"
  }
 },
 "nbformat": 4,
 "nbformat_minor": 2
}
