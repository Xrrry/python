{
 "cells": [
  {
   "cell_type": "code",
   "execution_count": 1,
   "metadata": {},
   "outputs": [],
   "source": [
    "import numpy as np\n",
    "import matplotlib.pyplot as plt"
   ]
  },
  {
   "cell_type": "code",
   "execution_count": 3,
   "metadata": {},
   "outputs": [],
   "source": [
    "plot_x = np.linspace(-1,6,141)\n",
    "plot_y = (plot_x-2.5)**2+2"
   ]
  },
  {
   "cell_type": "code",
   "execution_count": 4,
   "metadata": {},
   "outputs": [
    {
     "data": {
      "image/png": "[encoded data removed]",
      "text/plain": [
       "<Figure size 432x288 with 1 Axes>"
      ]
     },
     "metadata": {
      "needs_background": "light"
     },
     "output_type": "display_data"
    }
   ],
   "source": [
    "plt.plot(plot_x,plot_y)\n",
    "plt.show()"
   ]
  },
  {
   "cell_type": "code",
   "execution_count": 5,
   "metadata": {},
   "outputs": [],
   "source": [
    "def dj(theta):\n",
    "    return 2*(theta-2.5)"
   ]
  },
  {
   "cell_type": "code",
   "execution_count": 6,
   "metadata": {},
   "outputs": [],
   "source": [
    "def j(theta):\n",
    "    return (theta-2.5)**2+2"
   ]
  },
  {
   "cell_type": "code",
   "execution_count": 10,
   "metadata": {},
   "outputs": [
    {
     "name": "stdout",
     "output_type": "stream",
     "text": [
      "2.499891109642585\n",
      "2.00000001185711\n"
     ]
    }
   ],
   "source": [
    "theta = 0.\n",
    "epsilon = 1e-8\n",
    "eta = 0.1\n",
    "while True:\n",
    "    gradient = dj(theta)\n",
    "    last_theta = theta\n",
    "    theta = theta - gradient * eta\n",
    "    if abs(j(theta) - j(last_theta)) < epsilon:\n",
    "        break\n",
    "print(theta)\n",
    "print(j(theta))"
   ]
  },
  {
   "cell_type": "code",
   "execution_count": 11,
   "metadata": {},
   "outputs": [
    {
     "data": {
      "image/png": "[encoded data removed]",
      "text/plain": [
       "<Figure size 432x288 with 1 Axes>"
      ]
     },
     "metadata": {
      "needs_background": "light"
     },
     "output_type": "display_data"
    }
   ],
   "source": [
    "theta = 0.0\n",
    "theta_history = [theta]\n",
    "while True:\n",
    "    gradient = dj(theta)\n",
    "    last_theta = theta\n",
    "    theta = theta - gradient * eta\n",
    "    theta_history.append(theta)\n",
    "    \n",
    "    if abs(j(theta) - j(last_theta)) < epsilon:\n",
    "        break\n",
    "        \n",
    "plt.plot(plot_x, j(plot_x))\n",
    "plt.plot(np.array(theta_history), j(np.array(theta_history)), color='r', marker='+')\n",
    "plt.show()"
   ]
  },
  {
   "cell_type": "code",
   "execution_count": 12,
   "metadata": {},
   "outputs": [
    {
     "data": {
      "text/plain": [
       "[0.0,\n",
       " 0.5,\n",
       " 0.9,\n",
       " 1.2200000000000002,\n",
       " 1.4760000000000002,\n",
       " 1.6808,\n",
       " 1.84464,\n",
       " 1.9757120000000001,\n",
       " 2.0805696,\n",
       " 2.16445568,\n",
       " 2.2315645440000003,\n",
       " 2.2852516352000003,\n",
       " 2.32820130816,\n",
       " 2.362561046528,\n",
       " 2.3900488372224,\n",
       " 2.41203906977792,\n",
       " 2.429631255822336,\n",
       " 2.4437050046578688,\n",
       " 2.454964003726295,\n",
       " 2.4639712029810363,\n",
       " 2.471176962384829,\n",
       " 2.476941569907863,\n",
       " 2.4815532559262907,\n",
       " 2.4852426047410328,\n",
       " 2.488194083792826,\n",
       " 2.490555267034261,\n",
       " 2.492444213627409,\n",
       " 2.493955370901927,\n",
       " 2.4951642967215415,\n",
       " 2.496131437377233,\n",
       " 2.4969051499017865,\n",
       " 2.497524119921429,\n",
       " 2.4980192959371434,\n",
       " 2.4984154367497147,\n",
       " 2.4987323493997717,\n",
       " 2.498985879519817,\n",
       " 2.4991887036158538,\n",
       " 2.499350962892683,\n",
       " 2.4994807703141464,\n",
       " 2.499584616251317,\n",
       " 2.4996676930010535,\n",
       " 2.499734154400843,\n",
       " 2.4997873235206742,\n",
       " 2.4998298588165393,\n",
       " 2.4998638870532313,\n",
       " 2.499891109642585]"
      ]
     },
     "execution_count": 12,
     "metadata": {},
     "output_type": "execute_result"
    }
   ],
   "source": [
    "theta_history"
   ]
  },
  {
   "cell_type": "code",
   "execution_count": null,
   "metadata": {},
   "outputs": [],
   "source": []
  }
 ],
 "metadata": {
  "kernelspec": {
   "display_name": "Python 3",
   "language": "python",
   "name": "python3"
  },
  "language_info": {
   "codemirror_mode": {
    "name": "ipython",
    "version": 3
   },
   "file_extension": ".py",
   "mimetype": "text/x-python",
   "name": "python",
   "nbconvert_exporter": "python",
   "pygments_lexer": "ipython3",
   "version": "3.7.0"
  }
 },
 "nbformat": 4,
 "nbformat_minor": 2
}
