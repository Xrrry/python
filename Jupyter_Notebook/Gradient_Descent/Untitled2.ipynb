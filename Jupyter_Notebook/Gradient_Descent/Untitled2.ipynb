{
 "cells": [
  {
   "cell_type": "code",
   "execution_count": 1,
   "metadata": {},
   "outputs": [],
   "source": [
    "import numpy as np\n",
    "import matplotlib.pyplot as plt"
   ]
  },
  {
   "cell_type": "code",
   "execution_count": 10,
   "metadata": {},
   "outputs": [],
   "source": [
    "m = 100000\n",
    "\n",
    "x = np.random.normal(size = m)\n",
    "x = x.reshape(-1,1)\n",
    "y = 4.0 * x + 3.0 + np.random.normal(0, 3)"
   ]
  },
  {
   "cell_type": "code",
   "execution_count": 22,
   "metadata": {},
   "outputs": [],
   "source": [
    "def j(theta, x_b, y):\n",
    "    try:\n",
    "        return np.sum((y-x_b.dot(theta)) ** 2) / len(y)\n",
    "    except:\n",
    "        return float('inf')\n",
    "    \n",
    "def dj(theta, x_b, y):\n",
    "    return x_b.T.dot(x_b.dot(theta) - y) * 2. / len(y)\n",
    "\n",
    "def gradient_descent(x_b, y, initial_theta, eta, n_iter=1e4, epsilon=1):\n",
    "    \n",
    "    theta = initial_theta\n",
    "    cur_iter = 0\n",
    "    \n",
    "    while cur_iter < n_iter:\n",
    "        gradient = dj(theta, x_b, y)\n",
    "        last_theta = theta\n",
    "        theta = theta - eta * gradient\n",
    "        if (abs(j(theta, x_b, y) - j(last_theta, x_b, y)) < epsilon):\n",
    "            break\n",
    "        \n",
    "        cur_iter +=1\n",
    "        \n",
    "    return theta"
   ]
  },
  {
   "cell_type": "code",
   "execution_count": null,
   "metadata": {},
   "outputs": [],
   "source": []
  }
 ],
 "metadata": {
  "kernelspec": {
   "display_name": "Python 3",
   "language": "python",
   "name": "python3"
  },
  "language_info": {
   "codemirror_mode": {
    "name": "ipython",
    "version": 3
   },
   "file_extension": ".py",
   "mimetype": "text/x-python",
   "name": "python",
   "nbconvert_exporter": "python",
   "pygments_lexer": "ipython3",
   "version": "3.7.0"
  }
 },
 "nbformat": 4,
 "nbformat_minor": 2
}
