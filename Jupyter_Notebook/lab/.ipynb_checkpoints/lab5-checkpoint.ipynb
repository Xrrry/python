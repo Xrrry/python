{
 "cells": [
  {
   "cell_type": "code",
   "execution_count": 131,
   "metadata": {},
   "outputs": [],
   "source": [
    "import numpy as np\n",
    "import matplotlib.pyplot as plt\n",
    "import math"
   ]
  },
  {
   "cell_type": "code",
   "execution_count": 132,
   "metadata": {
    "scrolled": true
   },
   "outputs": [
    {
     "data": {
      "text/plain": [
       "array([ 1.78862847e+00,  4.36509851e-01,  9.64974681e-02, -1.86349270e+00,\n",
       "       -2.77388203e-01, -3.54758979e-01, -8.27414815e-02, -6.27000677e-01,\n",
       "       -4.38181690e-02, -4.77218030e-01, -1.31386475e+00,  8.84622380e-01,\n",
       "        8.81318042e-01,  1.70957306e+00,  5.00336422e-02, -4.04677415e-01,\n",
       "       -5.45359948e-01, -1.54647732e+00,  9.82367434e-01, -1.10106763e+00,\n",
       "       -1.18504653e+00, -2.05649899e-01,  1.48614836e+00,  2.36716267e-01,\n",
       "       -1.02378514e+00, -7.12993200e-01,  6.25244966e-01, -1.60513363e-01,\n",
       "       -7.68836350e-01, -2.30030722e-01,  7.45056266e-01,  1.97611078e+00,\n",
       "       -1.24412333e+00, -6.26416911e-01, -8.03766095e-01, -2.41908317e+00,\n",
       "       -9.23792022e-01, -1.02387576e+00,  1.12397796e+00, -1.31914233e-01,\n",
       "       -1.62328545e+00,  6.46675452e-01, -3.56270759e-01, -1.74314104e+00,\n",
       "       -5.96649642e-01, -5.88594380e-01, -8.73882298e-01,  2.97138154e-02,\n",
       "       -2.24825777e+00, -2.67761865e-01,  1.01318344e+00,  8.52797841e-01,\n",
       "        1.10818750e+00,  1.11939066e+00,  1.48754313e+00, -1.11830068e+00,\n",
       "        8.45833407e-01, -1.86088953e+00, -6.02885104e-01, -1.91447204e+00,\n",
       "        1.04814751e+00,  1.33373782e+00, -1.97414679e-01,  1.77464503e+00,\n",
       "       -6.74727510e-01,  1.50616865e-01,  1.52945703e-01, -1.06419527e+00,\n",
       "        4.37946611e-01,  1.93897846e+00, -1.02493087e+00,  8.99338446e-01,\n",
       "       -1.54506852e-01,  1.76962730e+00,  4.83788348e-01,  6.76216400e-01,\n",
       "        6.43163281e-01,  2.49086707e-01, -1.39576350e+00,  1.39166291e+00,\n",
       "       -1.37066901e+00,  2.38563192e-01,  6.14077088e-01, -8.37912273e-01,\n",
       "        1.45063214e-01,  1.16788229e+00, -2.41044701e-02, -8.88657418e-01,\n",
       "       -2.91573775e+00, -9.71840503e-01, -5.91078738e-01, -5.16417368e-01,\n",
       "       -9.59996180e-01,  3.77295234e-01, -5.74708420e-01, -1.09454334e-01,\n",
       "        6.79071600e-01, -8.55437169e-01, -3.00206075e-01,  2.15814934e+00,\n",
       "        8.74285723e-01, -1.29353663e+00, -7.97409382e-02,  5.64485518e-01,\n",
       "        1.23347104e+00,  1.48986395e-01, -5.30582144e-01, -7.30526644e-01,\n",
       "        6.45061985e-01,  3.13060374e-01, -5.16647925e-01, -1.89071666e-01,\n",
       "       -4.16198015e-01,  7.24657658e-01, -6.89960677e-01,  4.86414475e-01,\n",
       "        8.51518950e-01,  4.86249326e-01, -8.34239851e-01,  1.34499246e+00,\n",
       "       -6.78212679e-01,  4.26435074e-01, -7.53334794e-01, -1.74411025e+00,\n",
       "        2.25750266e-01,  2.87035165e-01, -7.74409606e-02,  2.76068497e-01,\n",
       "       -6.48410888e-01, -7.37464837e-01, -1.68090099e-01,  1.90927681e+00,\n",
       "        8.14814541e-01, -5.19991754e-01,  5.58713205e-01, -4.78364660e-01,\n",
       "       -4.57260787e-01,  8.59284008e-01, -5.25264645e-01, -1.67563463e+00,\n",
       "       -9.06494701e-01,  8.84152062e-02,  1.28007821e-01,  1.24161652e+00,\n",
       "       -7.16025798e-01,  7.31465736e-01,  4.25966750e-01, -1.49013772e-01,\n",
       "        8.35843902e-01,  4.92118903e-01, -8.62308487e-01,  1.07168393e+00,\n",
       "       -1.22090192e+00,  5.96154331e-02,  2.44416199e-03,  4.24635721e-01,\n",
       "       -7.25433480e-01, -3.49433856e-02, -1.40620027e-01,  9.97088367e-01,\n",
       "       -7.95914693e-01,  7.27455292e-02, -2.61240485e-01, -1.29804664e+00,\n",
       "        2.67611247e+00, -7.12190272e-02, -1.48665807e+00,  1.40862696e+00,\n",
       "       -1.07058550e+00,  3.70869972e-01,  8.62832095e-01, -6.48432023e-01,\n",
       "       -4.30890055e-01, -5.40270264e-01, -1.29361010e-01, -1.62246117e+00,\n",
       "       -1.23563662e+00, -1.40786442e-01,  1.03895212e+00,  6.31744177e-01,\n",
       "        1.72941743e+00,  6.94052272e-01, -5.11128993e-01, -1.22843406e-01,\n",
       "       -2.03039355e+00, -9.60775110e-01, -1.02035928e+00,  2.70593425e-01,\n",
       "        6.47829797e-01, -5.60373419e-01, -5.88501620e-01, -1.54655582e+00,\n",
       "       -1.27762058e-01,  2.48168027e-01,  4.45780959e-01, -7.82709043e-01,\n",
       "        1.98848968e+00,  1.19505834e+00, -9.52375987e-02, -5.27187779e-01])"
      ]
     },
     "execution_count": 132,
     "metadata": {},
     "output_type": "execute_result"
    }
   ],
   "source": [
    "np.random.seed(3)\n",
    "y = np.random.normal(size=200)\n",
    "y"
   ]
  },
  {
   "cell_type": "code",
   "execution_count": 133,
   "metadata": {
    "scrolled": true
   },
   "outputs": [
    {
     "data": {
      "text/plain": [
       "0.9767123391405987"
      ]
     },
     "execution_count": 133,
     "metadata": {},
     "output_type": "execute_result"
    }
   ],
   "source": [
    "y.std()"
   ]
  },
  {
   "cell_type": "code",
   "execution_count": 134,
   "metadata": {},
   "outputs": [
    {
     "data": {
      "text/plain": [
       "-0.07079063505988327"
      ]
     },
     "execution_count": 134,
     "metadata": {},
     "output_type": "execute_result"
    }
   ],
   "source": [
    "y.mean()"
   ]
  },
  {
   "cell_type": "code",
   "execution_count": 135,
   "metadata": {},
   "outputs": [
    {
     "data": {
      "text/plain": [
       "array([[ 1.78862847e+00,  4.36509851e-01,  9.64974681e-02,\n",
       "        -1.86349270e+00, -2.77388203e-01, -3.54758979e-01,\n",
       "        -8.27414815e-02, -6.27000677e-01, -4.38181690e-02,\n",
       "        -4.77218030e-01],\n",
       "       [-1.31386475e+00,  8.84622380e-01,  8.81318042e-01,\n",
       "         1.70957306e+00,  5.00336422e-02, -4.04677415e-01,\n",
       "        -5.45359948e-01, -1.54647732e+00,  9.82367434e-01,\n",
       "        -1.10106763e+00],\n",
       "       [-1.18504653e+00, -2.05649899e-01,  1.48614836e+00,\n",
       "         2.36716267e-01, -1.02378514e+00, -7.12993200e-01,\n",
       "         6.25244966e-01, -1.60513363e-01, -7.68836350e-01,\n",
       "        -2.30030722e-01],\n",
       "       [ 7.45056266e-01,  1.97611078e+00, -1.24412333e+00,\n",
       "        -6.26416911e-01, -8.03766095e-01, -2.41908317e+00,\n",
       "        -9.23792022e-01, -1.02387576e+00,  1.12397796e+00,\n",
       "        -1.31914233e-01],\n",
       "       [-1.62328545e+00,  6.46675452e-01, -3.56270759e-01,\n",
       "        -1.74314104e+00, -5.96649642e-01, -5.88594380e-01,\n",
       "        -8.73882298e-01,  2.97138154e-02, -2.24825777e+00,\n",
       "        -2.67761865e-01],\n",
       "       [ 1.01318344e+00,  8.52797841e-01,  1.10818750e+00,\n",
       "         1.11939066e+00,  1.48754313e+00, -1.11830068e+00,\n",
       "         8.45833407e-01, -1.86088953e+00, -6.02885104e-01,\n",
       "        -1.91447204e+00],\n",
       "       [ 1.04814751e+00,  1.33373782e+00, -1.97414679e-01,\n",
       "         1.77464503e+00, -6.74727510e-01,  1.50616865e-01,\n",
       "         1.52945703e-01, -1.06419527e+00,  4.37946611e-01,\n",
       "         1.93897846e+00],\n",
       "       [-1.02493087e+00,  8.99338446e-01, -1.54506852e-01,\n",
       "         1.76962730e+00,  4.83788348e-01,  6.76216400e-01,\n",
       "         6.43163281e-01,  2.49086707e-01, -1.39576350e+00,\n",
       "         1.39166291e+00],\n",
       "       [-1.37066901e+00,  2.38563192e-01,  6.14077088e-01,\n",
       "        -8.37912273e-01,  1.45063214e-01,  1.16788229e+00,\n",
       "        -2.41044701e-02, -8.88657418e-01, -2.91573775e+00,\n",
       "        -9.71840503e-01],\n",
       "       [-5.91078738e-01, -5.16417368e-01, -9.59996180e-01,\n",
       "         3.77295234e-01, -5.74708420e-01, -1.09454334e-01,\n",
       "         6.79071600e-01, -8.55437169e-01, -3.00206075e-01,\n",
       "         2.15814934e+00],\n",
       "       [ 8.74285723e-01, -1.29353663e+00, -7.97409382e-02,\n",
       "         5.64485518e-01,  1.23347104e+00,  1.48986395e-01,\n",
       "        -5.30582144e-01, -7.30526644e-01,  6.45061985e-01,\n",
       "         3.13060374e-01],\n",
       "       [-5.16647925e-01, -1.89071666e-01, -4.16198015e-01,\n",
       "         7.24657658e-01, -6.89960677e-01,  4.86414475e-01,\n",
       "         8.51518950e-01,  4.86249326e-01, -8.34239851e-01,\n",
       "         1.34499246e+00],\n",
       "       [-6.78212679e-01,  4.26435074e-01, -7.53334794e-01,\n",
       "        -1.74411025e+00,  2.25750266e-01,  2.87035165e-01,\n",
       "        -7.74409606e-02,  2.76068497e-01, -6.48410888e-01,\n",
       "        -7.37464837e-01],\n",
       "       [-1.68090099e-01,  1.90927681e+00,  8.14814541e-01,\n",
       "        -5.19991754e-01,  5.58713205e-01, -4.78364660e-01,\n",
       "        -4.57260787e-01,  8.59284008e-01, -5.25264645e-01,\n",
       "        -1.67563463e+00],\n",
       "       [-9.06494701e-01,  8.84152062e-02,  1.28007821e-01,\n",
       "         1.24161652e+00, -7.16025798e-01,  7.31465736e-01,\n",
       "         4.25966750e-01, -1.49013772e-01,  8.35843902e-01,\n",
       "         4.92118903e-01],\n",
       "       [-8.62308487e-01,  1.07168393e+00, -1.22090192e+00,\n",
       "         5.96154331e-02,  2.44416199e-03,  4.24635721e-01,\n",
       "        -7.25433480e-01, -3.49433856e-02, -1.40620027e-01,\n",
       "         9.97088367e-01],\n",
       "       [-7.95914693e-01,  7.27455292e-02, -2.61240485e-01,\n",
       "        -1.29804664e+00,  2.67611247e+00, -7.12190272e-02,\n",
       "        -1.48665807e+00,  1.40862696e+00, -1.07058550e+00,\n",
       "         3.70869972e-01],\n",
       "       [ 8.62832095e-01, -6.48432023e-01, -4.30890055e-01,\n",
       "        -5.40270264e-01, -1.29361010e-01, -1.62246117e+00,\n",
       "        -1.23563662e+00, -1.40786442e-01,  1.03895212e+00,\n",
       "         6.31744177e-01],\n",
       "       [ 1.72941743e+00,  6.94052272e-01, -5.11128993e-01,\n",
       "        -1.22843406e-01, -2.03039355e+00, -9.60775110e-01,\n",
       "        -1.02035928e+00,  2.70593425e-01,  6.47829797e-01,\n",
       "        -5.60373419e-01],\n",
       "       [-5.88501620e-01, -1.54655582e+00, -1.27762058e-01,\n",
       "         2.48168027e-01,  4.45780959e-01, -7.82709043e-01,\n",
       "         1.98848968e+00,  1.19505834e+00, -9.52375987e-02,\n",
       "        -5.27187779e-01]])"
      ]
     },
     "execution_count": 135,
     "metadata": {},
     "output_type": "execute_result"
    }
   ],
   "source": [
    "y1 = y.reshape(20,10)\n",
    "y1"
   ]
  },
  {
   "cell_type": "code",
   "execution_count": 136,
   "metadata": {},
   "outputs": [
    {
     "data": {
      "text/plain": [
       "[-0.14047824507752982,\n",
       " -0.04035324984824647,\n",
       " -0.19387456138009926,\n",
       " -0.3327826514749938,\n",
       " -0.7621453926161665,\n",
       " 0.09303886163887379,\n",
       " 0.49006805394962694,\n",
       " 0.35376821625164606,\n",
       " -0.48433356469786465,\n",
       " -0.06927821080586853,\n",
       " 0.11449646808914893,\n",
       " 0.1247714732373661,\n",
       " -0.3423685407281335,\n",
       " 0.03174819839887659,\n",
       " 0.21719005659350565,\n",
       " -0.042873968698366106,\n",
       " -0.045530948511437255,\n",
       " -0.2214309198717323,\n",
       " -0.18639808361860885,\n",
       " 0.020954307972337872]"
      ]
     },
     "execution_count": 136,
     "metadata": {},
     "output_type": "execute_result"
    }
   ],
   "source": [
    "x = [np.mean(a[:]) for a in y1]\n",
    "x"
   ]
  },
  {
   "cell_type": "code",
   "execution_count": 137,
   "metadata": {
    "scrolled": true
   },
   "outputs": [
    {
     "data": {
      "image/png": "[encoded data removed]",
      "text/plain": [
       "<Figure size 432x288 with 1 Axes>"
      ]
     },
     "metadata": {
      "needs_background": "light"
     },
     "output_type": "display_data"
    }
   ],
   "source": [
    "plt.scatter(range(20),x)\n",
    "plt.plot(range(20),x)\n",
    "plt.show()"
   ]
  },
  {
   "cell_type": "code",
   "execution_count": 138,
   "metadata": {},
   "outputs": [],
   "source": [
    "divideIndex = np.array([-0.67, 0, 0.67])\n",
    "def divide(n):\n",
    "    if n<divideIndex[0]:\n",
    "        return 'A'\n",
    "    elif n<divideIndex[1]:\n",
    "        return 'B'\n",
    "    elif n<divideIndex[2]:\n",
    "        return 'C'\n",
    "    else:\n",
    "        return 'D'"
   ]
  },
  {
   "cell_type": "code",
   "execution_count": 139,
   "metadata": {},
   "outputs": [
    {
     "data": {
      "text/plain": [
       "['B',\n",
       " 'B',\n",
       " 'B',\n",
       " 'B',\n",
       " 'A',\n",
       " 'C',\n",
       " 'C',\n",
       " 'C',\n",
       " 'B',\n",
       " 'B',\n",
       " 'C',\n",
       " 'C',\n",
       " 'B',\n",
       " 'C',\n",
       " 'C',\n",
       " 'B',\n",
       " 'B',\n",
       " 'B',\n",
       " 'B',\n",
       " 'C']"
      ]
     },
     "execution_count": 139,
     "metadata": {},
     "output_type": "execute_result"
    }
   ],
   "source": [
    "result = [divide(i) for i in x]\n",
    "result"
   ]
  },
  {
   "cell_type": "code",
   "execution_count": 141,
   "metadata": {},
   "outputs": [
    {
     "data": {
      "image/png": "[encoded data removed]",
      "text/plain": [
       "<Figure size 432x288 with 1 Axes>"
      ]
     },
     "metadata": {
      "needs_background": "light"
     },
     "output_type": "display_data"
    }
   ],
   "source": [
    "plt.scatter(range(20), x)\n",
    "plt.plot(range(20),x)\n",
    "for i in range(3):\n",
    "    plt.hlines(divideIndex[i], 0, 20)\n",
    "for i in range(20):\n",
    "    plt.annotate(result[i],xy=(i,x[i]),fontsize=14)\n",
    "plt.show()"
   ]
  },
  {
   "cell_type": "code",
   "execution_count": null,
   "metadata": {},
   "outputs": [],
   "source": []
  }
 ],
 "metadata": {
  "kernelspec": {
   "display_name": "Python 3",
   "language": "python",
   "name": "python3"
  },
  "language_info": {
   "codemirror_mode": {
    "name": "ipython",
    "version": 3
   },
   "file_extension": ".py",
   "mimetype": "text/x-python",
   "name": "python",
   "nbconvert_exporter": "python",
   "pygments_lexer": "ipython3",
   "version": "3.7.0"
  }
 },
 "nbformat": 4,
 "nbformat_minor": 2
}
